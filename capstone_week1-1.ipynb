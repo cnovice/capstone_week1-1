{
 "cells": [
  {
   "cell_type": "markdown",
   "id": "f33e8639",
   "metadata": {},
   "source": [
    "# Capstone Project - The Battle of Neighborhoods (Week 1)"
   ]
  },
  {
   "cell_type": "markdown",
   "id": "b330871d",
   "metadata": {},
   "source": [
    "### Introduction / Business Problem"
   ]
  },
  {
   "cell_type": "markdown",
   "id": "7535cf23",
   "metadata": {},
   "source": [
    "I will build the delivery app for customers.<br>\n",
    "When I go home after work, I want to pack the food home by delivering food to the house or through driving through.\n",
    "To solve this problem, I will use the location data to select the restaurant with the best rating on the way I am going, and when it is delivered, I will deliver it to the house, and when the driving through, I will go to the restaurant and pack the food."
   ]
  },
  {
   "cell_type": "markdown",
   "id": "33ea429c",
   "metadata": {},
   "source": [
    "### Data"
   ]
  },
  {
   "cell_type": "markdown",
   "id": "1afd065d",
   "metadata": {},
   "source": [
    "I need the venue details for searching.</br>\n",
    "So I will use the Venu recommendation data for this\n",
    "\n",
    "* ll: required unless near is provided. Latitude and longitude of the user's location.\n",
    "* near: Chicago, IL\trequired unless ll is provided. A string naming a place in the world. If the near string is not geocodable, returns a failed_geocode error. Otherwise, searches within the bounds of the geocode and adds a geocode object to the response.\n",
    "* llAcc: Accuracy of latitude and longitude, in meters.\n",
    "* alt: Altitude of the user's location, in meters.\n",
    "* altAcc: Accuracy of the user's altitude, in meters.\n",
    "* radius: Radius to search within, in meters. If radius is not specified, a suggested radius will be used based on the density of venues in the area. The maximum supported radius is currently 100,000 meters.\n",
    "* section: One of food, drinks, coffee, shops, arts, outdoors, sights, trending, nextVenues (venues frequently visited after a given venue), or topPicks (a mix of recommendations generated without a query from the user). Choosing one of these limits results to venues with the specified category or property.\n",
    "* categoryId: Specify a categoryId (or include a list of comma-separated IDs if you want to select multiple categories) to limit the results to the specified category. For the complete category tree, see categories.\n",
    "* query: A term to be searched against a venue's tips, category, etc. The query parameter has no effect when a section is specified.\n",
    "* limit: Number of results to return, up to 50.\n",
    "* offset: Used to page through results, up to 50.\n",
    "* novelty: Pass new or old to limit results to places the acting user hasn't been or has been, respectively. Omitting this parameter returns a mixture of old and new venues.\n",
    "friendVisits: Pass visited or notvisited to limit results to places the acting user's friends have or haven't been, respectively. Omitting this parameter returns a mixture of venues to which the user's friends have or haven't been.\n",
    "* time: Pass any to retrieve results for any time of day. Omitting this parameter returns results targeted to the current time of day.\n",
    "* day: Pass any to retrieve results for any day of the week. Omitting this parameter returns results targeted to the current day of the week.\n",
    "* openNow: Boolean flag to only include venues that are open now. This prefers official provider hours but falls back to popular check-in hours.\n",
    "* sortByDistance: Boolean flag to sort the results by distance instead of relevance.\n",
    "* sortByPopularity: Boolean flag to sort the results by popularity instead of relevance.\n",
    "* price: Comma separated list of price points. Currently the valid range of price points are [1,2,3,4], 1 being the least expensive, 4 being the most expensive. For food venues, in the United States, 1 is < $10 an entree, 2 is $10-$20 an entree, 3 is $20-$30 an entree, 4 is > $30 an entree."
   ]
  },
  {
   "cell_type": "markdown",
   "id": "28890b6d",
   "metadata": {},
   "source": [
    "Get Venue Recommendations"
   ]
  },
  {
   "cell_type": "code",
   "execution_count": null,
   "id": "cfb60698",
   "metadata": {},
   "outputs": [],
   "source": []
  }
 ],
 "metadata": {
  "kernelspec": {
   "display_name": "Python",
   "language": "python",
   "name": "conda-env-python-py"
  },
  "language_info": {
   "codemirror_mode": {
    "name": "ipython",
    "version": 3
   },
   "file_extension": ".py",
   "mimetype": "text/x-python",
   "name": "python",
   "nbconvert_exporter": "python",
   "pygments_lexer": "ipython3",
   "version": "3.6.13"
  }
 },
 "nbformat": 4,
 "nbformat_minor": 5
}
